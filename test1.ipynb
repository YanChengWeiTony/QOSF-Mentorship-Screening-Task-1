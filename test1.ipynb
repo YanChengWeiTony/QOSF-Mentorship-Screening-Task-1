{
 "cells": [
  {
   "cell_type": "code",
   "execution_count": 1,
   "metadata": {},
   "outputs": [],
   "source": [
    "import qiskit\n",
    "from qiskit import QuantumCircuit\n",
    "from qiskit import ignis\n",
    "import numpy as np\n",
    "from qiskit import Aer\n",
    "from qiskit.visualization import plot_state_city\n",
    "import matplotlib.pyplot as plt\n",
    "from qiskit.aqua.components.optimizers import AQGD"
   ]
  },
  {
   "cell_type": "code",
   "execution_count": 2,
   "metadata": {},
   "outputs": [],
   "source": [
    "from typing import List\n",
    "\n",
    "class MyCircuit():\n",
    "    def __init__(self, Ly_num: int, phi: List):\n",
    "        self.Ly_num = Ly_num\n",
    "        self.phi = phi\n",
    "    \n",
    "    def MyCost(self, x: List):\n",
    "        lg = len(x)\n",
    "        if(lg % 2 == 1): return -1\n",
    "        theta_o = x[0:int(lg/2)]\n",
    "        theta_e = x[int(lg/2):lg]\n",
    "        \n",
    "        if(self.Ly_num * 4 != len(theta_o) or self.Ly_num * 4  != len(theta_e)): return -1\n",
    "\n",
    "        # Construct a circuit\n",
    "        myqc = QuantumCircuit(4,2)\n",
    "\n",
    "        for i in range(self.Ly_num):\n",
    "            Layer(myqc, theta_o[4*i : 4 * i + 4], theta_e[4*i : 4 * i + 4])\n",
    "\n",
    "        # To draw\n",
    "#         myqc.draw(output='mpl', filename='my_circuit.png')\n",
    "#         plt.show()\n",
    "#         print(myqc)\n",
    "\n",
    "        # Run the quantum circuit on a statevector simulator backend\n",
    "        backend = Aer.get_backend('statevector_simulator')\n",
    "\n",
    "        # Create a Quantum Program for execution\n",
    "        job = qiskit.execute(myqc, backend)\n",
    "        result = job.result()\n",
    "\n",
    "        # output\n",
    "        outputstate = result.get_statevector(myqc, decimals=5)\n",
    "\n",
    "        # calculate distance\n",
    "        dist = Dist(outputstate, self.phi)\n",
    "        return dist\n",
    "\n",
    "\n",
    "\n",
    "def Cost(Ly_num, theta_o: List, theta_e: List, phi: List):\n",
    "    \n",
    "    if(Ly_num * 4 != len(theta_o) or Ly_num * 4  != len(theta_e)): return -1\n",
    "\n",
    "    # Construct a circuit\n",
    "    myqc = QuantumCircuit(4,2)\n",
    "\n",
    "    for i in range(Ly_num):\n",
    "        Layer(myqc, theta_o[4*i : 4 * i + 4], theta_e[4*i : 4 * i + 4])\n",
    "        \n",
    "    myqc.draw(output='mpl', filename='my_circuit.png')\n",
    "    plt.show()\n",
    "    print(myqc)\n",
    "\n",
    "    # Run the quantum circuit on a statevector simulator backend\n",
    "    backend = Aer.get_backend('statevector_simulator')\n",
    "\n",
    "    # Create a Quantum Program for execution\n",
    "    job = qiskit.execute(myqc, backend)\n",
    "    result = job.result()\n",
    "    \n",
    "    # output\n",
    "    outputstate = result.get_statevector(myqc, decimals=5)\n",
    "    \n",
    "    # calculate distance\n",
    "    dist = Dist(outputstate, phi)\n",
    "    return dist\n",
    "\n",
    "def Plot_rho(outputstate):\n",
    "    plot_state_city(outputstate)\n",
    "\n",
    "\n",
    "def Even_blocks(qc: QuantumCircuit, theta: List):\n",
    "    lg = len(theta)\n",
    "    lg_qc = qc.n_qubits\n",
    "    if(lg != lg_qc): return\n",
    "    \n",
    "    for i in range(lg):\n",
    "        qc.rz(theta[i], i)\n",
    "        \n",
    "    for i in range(lg - 1):\n",
    "        for j in range(i + 1, lg):\n",
    "            qc.cz(i, j)\n",
    "    return\n",
    "\n",
    "def Odd_blocks(qc: QuantumCircuit, theta: List):\n",
    "    lg = len(theta)\n",
    "    lg_qc = qc.n_qubits\n",
    "    if(lg != lg_qc): return\n",
    "    \n",
    "    for i in range(lg):\n",
    "        qc.rx(theta[i], i)\n",
    "    return\n",
    "    \n",
    "def Layer(qc: QuantumCircuit, theta_o: List, theta_e: List):\n",
    "    Odd_blocks(qc, theta_o)\n",
    "    Even_blocks(qc, theta_e)\n",
    "\n",
    "    \n",
    "\n",
    "def Dist(v1, v2)->float:\n",
    "    lg1 = len(v1)\n",
    "    lg2 = len(v2)\n",
    "    if(lg1 != lg2): return -1\n",
    "    \n",
    "    ans = np.linalg.norm(abs(v1 - v2)**2)\n",
    "    return ans\n",
    "\n"
   ]
  },
  {
   "cell_type": "code",
   "execution_count": 19,
   "metadata": {},
   "outputs": [
    {
     "name": "stdout",
     "output_type": "stream",
     "text": [
      "\n",
      "phi =  [0.18418101+0.06655773j 0.25094835+0.18884707j 0.20795867+0.17655405j\n",
      " 0.15177179+0.2453564j  0.00168672+0.11096229j 0.18425743+0.24679098j\n",
      " 0.20655258+0.15790262j 0.1039852 +0.1861231j  0.20627291+0.20420566j\n",
      " 0.04957067+0.26964283j 0.19305836+0.07182372j 0.23791064+0.09179025j\n",
      " 0.03395167+0.07528163j 0.258607  +0.20850539j 0.06160843+0.20191415j\n",
      " 0.0607824 +0.22984984j] \n",
      "\n",
      "cost =  0.862695232320938\n"
     ]
    },
    {
     "name": "stderr",
     "output_type": "stream",
     "text": [
      "<ipython-input-2-35b4b2d11308>:90: DeprecationWarning: The QuantumCircuit.n_qubits method is deprecated as of 0.13.0, and will be removed no earlier than 3 months after that release date. You should use the QuantumCircuit.num_qubits method instead.\n",
      "  lg_qc = qc.n_qubits\n",
      "<ipython-input-2-35b4b2d11308>:77: DeprecationWarning: The QuantumCircuit.n_qubits method is deprecated as of 0.13.0, and will be removed no earlier than 3 months after that release date. You should use the QuantumCircuit.num_qubits method instead.\n",
      "  lg_qc = qc.n_qubits\n"
     ]
    }
   ],
   "source": [
    "# theta_o, theta_e\n",
    "theta_o = np.pi *np.array( [1, 1, 4, 3, 1, 1, 4, 3])\n",
    "theta_e = np.pi *np.array( [-.3, .1, .3, 0, -.3, .1, .3, 0])\n",
    "x = np.concatenate( ( theta_o , theta_e) )\n",
    "\n",
    "\n",
    "# generate an arbitrary state\n",
    "from random import*\n",
    "phi = np.zeros(16, dtype = complex)\n",
    "buf = 0\n",
    "for i in range(16):\n",
    "    phi[i] = random() + random() * 1j\n",
    "    buf += abs(phi[i])**2\n",
    "phi /= np.sqrt(buf)\n",
    "print('\\nphi = ', phi, '\\n')\n",
    "\n",
    "# Run circuit\n",
    "Lyer_num = 2\n",
    "c = MyCircuit(Lyer_num, phi)\n",
    "mycost = c.MyCost(x)\n",
    "print('cost = ', mycost)\n",
    "\n",
    "    "
   ]
  },
  {
   "cell_type": "code",
   "execution_count": 25,
   "metadata": {},
   "outputs": [
    {
     "name": "stderr",
     "output_type": "stream",
     "text": [
      "<ipython-input-2-35b4b2d11308>:90: DeprecationWarning: The QuantumCircuit.n_qubits method is deprecated as of 0.13.0, and will be removed no earlier than 3 months after that release date. You should use the QuantumCircuit.num_qubits method instead.\n",
      "  lg_qc = qc.n_qubits\n",
      "<ipython-input-2-35b4b2d11308>:77: DeprecationWarning: The QuantumCircuit.n_qubits method is deprecated as of 0.13.0, and will be removed no earlier than 3 months after that release date. You should use the QuantumCircuit.num_qubits method instead.\n",
      "  lg_qc = qc.n_qubits\n"
     ]
    }
   ],
   "source": [
    "# Calculate gradient\n",
    "s = AQGD(maxiter= 500, eta=0.8)\n",
    "\n",
    "# giadient\n",
    "# ans = s.gradient_num_diff(x, c.MyCost, 0.1)\n",
    "# print(ans)\n",
    "\n",
    "# optimize\n",
    "result = s.optimize(16, c.MyCost, gradient_function = None, variable_bounds=None, initial_point=x )"
   ]
  },
  {
   "cell_type": "code",
   "execution_count": 26,
   "metadata": {},
   "outputs": [
    {
     "name": "stdout",
     "output_type": "stream",
     "text": [
      "(array([ 1.33779641,  1.57797957, 11.12566075,  7.81897111,  2.25784763,\n",
      "        2.92124826, 12.07938191,  9.86748972, -0.44016749,  0.72891703,\n",
      "       -0.02493315,  0.27405653, -1.7170926 , -0.86464346,  1.8009701 ,\n",
      "       -1.23123865]), 0.030241195537497902, 132)\n"
     ]
    },
    {
     "name": "stderr",
     "output_type": "stream",
     "text": [
      "<ipython-input-2-35b4b2d11308>:90: DeprecationWarning: The QuantumCircuit.n_qubits method is deprecated as of 0.13.0, and will be removed no earlier than 3 months after that release date. You should use the QuantumCircuit.num_qubits method instead.\n",
      "  lg_qc = qc.n_qubits\n",
      "<ipython-input-2-35b4b2d11308>:77: DeprecationWarning: The QuantumCircuit.n_qubits method is deprecated as of 0.13.0, and will be removed no earlier than 3 months after that release date. You should use the QuantumCircuit.num_qubits method instead.\n",
      "  lg_qc = qc.n_qubits\n"
     ]
    },
    {
     "data": {
      "text/plain": [
       "0.030241195537497902"
      ]
     },
     "execution_count": 26,
     "metadata": {},
     "output_type": "execute_result"
    }
   ],
   "source": [
    "print(result)\n",
    "c.MyCost(result[0])"
   ]
  },
  {
   "cell_type": "code",
   "execution_count": 23,
   "metadata": {},
   "outputs": [
    {
     "name": "stdout",
     "output_type": "stream",
     "text": [
      "-1\n"
     ]
    }
   ],
   "source": [
    "theta_o_buf = np.pi *np.array( [1, 1, 4, 3])\n",
    "theta_e_buf = np.pi *np.array( [-.3, .1, .3, 0])\n",
    "x_buf = np.concatenate( ( theta_o_buf , theta_e_buf) )\n",
    "\n",
    "ans = c.MyCost(x_buf)\n",
    "print(ans)"
   ]
  },
  {
   "cell_type": "code",
   "execution_count": null,
   "metadata": {},
   "outputs": [],
   "source": []
  }
 ],
 "metadata": {
  "kernelspec": {
   "display_name": "Python 3",
   "language": "python",
   "name": "python3"
  },
  "language_info": {
   "codemirror_mode": {
    "name": "ipython",
    "version": 3
   },
   "file_extension": ".py",
   "mimetype": "text/x-python",
   "name": "python",
   "nbconvert_exporter": "python",
   "pygments_lexer": "ipython3",
   "version": "3.8.3"
  }
 },
 "nbformat": 4,
 "nbformat_minor": 4
}
